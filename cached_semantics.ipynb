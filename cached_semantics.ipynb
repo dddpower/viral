{
 "cells": [
  {
   "cell_type": "markdown",
   "metadata": {},
   "source": [
    "#### Here, we are going to investigate the cached_escape function in cached_semantics.py to reproduce the AUC result"
   ]
  },
  {
   "cell_type": "code",
   "execution_count": 1,
   "metadata": {},
   "outputs": [
    {
     "name": "stdout",
     "output_type": "stream",
     "text": [
      "ROC AUC: 0.75\n"
     ]
    }
   ],
   "source": [
    "# 0. look up auc function in sklearn\n",
    "from sklearn.metrics import auc\n",
    "import numpy as np\n",
    "# Example data (FPR, TPR)\n",
    "fpr = np.array([0.0, 0.1, 0.2, 0.3, 0.4, 1.0])\n",
    "tpr = np.array([0.0, 0.4, 0.6, 0.7, 0.8, 1.0])\n",
    "\n",
    "# Calculate AUC\n",
    "roc_auc = auc(fpr, tpr)\n",
    "print(f\"ROC AUC: {roc_auc}\")\n",
    "# I finded out this function simply gets the area under the curve of the ROC curve described by the fpr and tpr arrays"
   ]
  },
  {
   "cell_type": "code",
   "execution_count": 15,
   "metadata": {},
   "outputs": [
    {
     "name": "stdout",
     "output_type": "stream",
     "text": [
      "       pos wt mut          prob  change  is_viable  is_escape\n",
      "0        0  M   A  2.190679e-06  1389.0      False      False\n",
      "1        0  M   B  1.134475e-18  1628.0      False      False\n",
      "2        0  M   C  1.529340e-06  3214.0      False      False\n",
      "3        0  M   D  6.757930e-09  1710.0      False      False\n",
      "4        0  M   E  1.990447e-07  1568.0      False      False\n",
      "...    ... ..  ..           ...     ...        ...        ...\n",
      "30547    0  M   V  8.076018e-06   765.0      False      False\n",
      "30548    0  M   W  1.012355e-09  1172.0      False      False\n",
      "30549    0  M   X  1.913051e-11   436.5      False      False\n",
      "30550    0  M   Y  2.763461e-07   586.5      False      False\n",
      "30551    0  M   Z  7.534515e-13  1504.0      False      False\n",
      "\n",
      "[30552 rows x 7 columns]\n"
     ]
    },
    {
     "data": {
      "text/plain": [
       "30552"
      ]
     },
     "execution_count": 15,
     "metadata": {},
     "output_type": "execute_result"
    }
   ],
   "source": [
    "import pandas as pd\n",
    "import scipy.stats as ss\n",
    "cov_cscs_path = \"../results/cov/semantics/analyze_semantics_cov_bilstm_512.txt\"\n",
    "rbd_cscs_path = \"../results/cov/semantics/analyze_semantics_cov2rbd_bilstm_512.txt\"\n",
    "cov_df = pd.read_csv(cov_cscs_path, sep=\"\\t\")\n",
    "rbd_df = pd.read_csv(rbd_cscs_path, sep=\"\\t\")\n",
    "print(cov_df)\n",
    "len(cov_df)"
   ]
  },
  {
   "cell_type": "code",
   "execution_count": 18,
   "metadata": {},
   "outputs": [
    {
     "data": {
      "text/plain": [
       "(0.8659576887100414, 0.8390053866706172, 0.6598051358553816)"
      ]
     },
     "execution_count": 18,
     "metadata": {},
     "output_type": "execute_result"
    }
   ],
   "source": [
    "# 1. before start test the main function in cached_semantics.py first\n",
    "def get_aucs(df: pd.DataFrame):\n",
    "    \"\"\"What we need is sars-cov-2 related results, so we ignore codes not related \n",
    "    to sars-cov-2.\n",
    "    wt_seq & seqs_escape are used to calculate AUC.\n",
    "    \"\"\"\n",
    "    \"\"\"get prob & orig_prob from table\n",
    "    escape_rank_dist, escape_idx\n",
    "    acquisition = CSCS score (rank base)\n",
    "     = apply rank to the array(grammar and semantic change) and sum\n",
    "\n",
    "    target values: norm_auc, norm_auc_prob, norm_auc_change\n",
    "\n",
    "    for RBD, ignore pos < 330 or pos > 530\n",
    "    \"\"\"\n",
    "    grammaticalities = df['prob']\n",
    "    semantic_changes = df['change']\n",
    "\n",
    "    gram_ranks = grammaticalities.rank(ascending=False)\n",
    "    sem_ranks = semantic_changes.rank(ascending=False)\n",
    "\n",
    "    escape_indices = df[df['is_escape'] == True].index\n",
    "    # acquisition = cscs_scores\n",
    "    cscs_scores = gram_ranks + sem_ranks\n",
    "    len_probs = len(grammaticalities)\n",
    "    num_to_consider = list(range(1, len(grammaticalities) + 1))\n",
    "    \n",
    "    # escape mutants rank of cscs score\n",
    "    escape_ranks_cscs = cscs_scores.rank()[escape_indices]\n",
    "    escape_ranks_gram = gram_ranks[escape_indices]\n",
    "    escape_ranks_sem = sem_ranks[escape_indices]\n",
    "    n_escape_cscs = [sum(escape_ranks_cscs <= i + 1) for i in range(len_probs)]\n",
    "    n_escape_gram = [sum(escape_ranks_gram <= i + 1) for i in range(len_probs)]\n",
    "    n_escape_sem = [sum(escape_ranks_sem <= i + 1) for i in range(len_probs)]\n",
    "\n",
    "    norm = (len_probs + 1) * len(escape_ranks_cscs)\n",
    "\n",
    "    # auc of cscs\n",
    "    norm_auc_cscs = auc(num_to_consider, n_escape_cscs) / norm\n",
    "    # auc of grammaticalities \n",
    "    norm_auc_gram = auc(num_to_consider, n_escape_gram) / norm\n",
    "    # auc of semantic change \n",
    "    norm_auc_sem = auc(num_to_consider, n_escape_sem) / norm\n",
    "    \n",
    "    return (norm_auc_cscs, norm_auc_gram, norm_auc_sem)\n",
    "result = get_aucs(cov_df)\n",
    "result"
   ]
  },
  {
   "cell_type": "code",
   "execution_count": 13,
   "metadata": {},
   "outputs": [
    {
     "ename": "TypeError",
     "evalue": "unsupported operand type(s) for +: 'range' and 'int'",
     "output_type": "error",
     "traceback": [
      "\u001b[0;31m---------------------------------------------------------------------------\u001b[0m",
      "\u001b[0;31mTypeError\u001b[0m                                 Traceback (most recent call last)",
      "Cell \u001b[0;32mIn[13], line 6\u001b[0m\n\u001b[1;32m      1\u001b[0m \u001b[38;5;124;03m\"\"\"finding out acq_argsort & escape_rank_dist\u001b[39;00m\n\u001b[1;32m      2\u001b[0m \u001b[38;5;124;03mescape_idx is array of index.\u001b[39;00m\n\u001b[1;32m      3\u001b[0m \u001b[38;5;124;03m\"\"\"\u001b[39;00m\n\u001b[1;32m      4\u001b[0m \u001b[38;5;66;03m# acq_argsort = ss.rankdata(-acquisition)\u001b[39;00m\n\u001b[1;32m      5\u001b[0m \u001b[38;5;66;03m# escape_rank_dist = acq_argsort[escape_idx]\u001b[39;00m\n\u001b[0;32m----> 6\u001b[0m \u001b[38;5;28mlist\u001b[39m(\u001b[38;5;28;43mrange\u001b[39;49m\u001b[43m(\u001b[49m\u001b[38;5;241;43m10\u001b[39;49m\u001b[43m)\u001b[49m\u001b[43m \u001b[49m\u001b[38;5;241;43m+\u001b[39;49m\u001b[43m \u001b[49m\u001b[38;5;241;43m1\u001b[39;49m)\n",
      "\u001b[0;31mTypeError\u001b[0m: unsupported operand type(s) for +: 'range' and 'int'"
     ]
    }
   ],
   "source": [
    "\"\"\"finding out acq_argsort & escape_rank_dist\n",
    "escape_idx is array of index.\n",
    "\"\"\"\n",
    "# acq_argsort = ss.rankdata(-acquisition)\n",
    "# escape_rank_dist = acq_argsort[escape_idx]\n"
   ]
  }
 ],
 "metadata": {
  "kernelspec": {
   "display_name": "conda-mut",
   "language": "python",
   "name": "python3"
  },
  "language_info": {
   "codemirror_mode": {
    "name": "ipython",
    "version": 3
   },
   "file_extension": ".py",
   "mimetype": "text/x-python",
   "name": "python",
   "nbconvert_exporter": "python",
   "pygments_lexer": "ipython3",
   "version": "3.11.7"
  }
 },
 "nbformat": 4,
 "nbformat_minor": 2
}
