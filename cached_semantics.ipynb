{
 "cells": [
  {
   "cell_type": "markdown",
   "metadata": {},
   "source": [
    "#### Here, we are going to investigate the cached_escape function in cached_semantics.py to reproduce the AUC result"
   ]
  },
  {
   "cell_type": "code",
   "execution_count": 1,
   "metadata": {},
   "outputs": [
    {
     "name": "stdout",
     "output_type": "stream",
     "text": [
      "ROC AUC: 0.75\n"
     ]
    }
   ],
   "source": [
    "# 0. look up auc function in sklearn\n",
    "from sklearn.metrics import auc\n",
    "import numpy as np\n",
    "# Example data (FPR, TPR)\n",
    "fpr = np.array([0.0, 0.1, 0.2, 0.3, 0.4, 1.0])\n",
    "tpr = np.array([0.0, 0.4, 0.6, 0.7, 0.8, 1.0])\n",
    "\n",
    "# Calculate AUC\n",
    "roc_auc = auc(fpr, tpr)\n",
    "print(f\"ROC AUC: {roc_auc}\")\n",
    "# I finded out this function simply gets the area under the curve of the ROC curve described by the fpr and tpr arrays"
   ]
  },
  {
   "cell_type": "code",
   "execution_count": 22,
   "metadata": {},
   "outputs": [],
   "source": [
    "import pandas as pd\n",
    "import scipy.stats as ss\n",
    "cov_cscs_path = \"../results/cov/semantics/analyze_semantics_cov_bilstm_512.txt\"\n",
    "cov_codon_path = \"../data/ranked_extended_analyze_semantics_cov_bilstm_512.txt\"\n",
    "# ignore U B J X Z\n",
    "rbd_cscs_path = \"../results/cov/semantics/analyze_semantics_cov2rbd_bilstm_512.txt\"\n",
    "cov_df = pd.read_csv(cov_cscs_path, sep=\"\\t\")\n",
    "codon_df = pd.read_csv(cov_codon_path, sep=\"\\t\")\n",
    "# codon_df['pos'] -= 1\n",
    "# codon_df.to_csv(cov_codon_path, sep=\"\\t\", index=False)"
   ]
  },
  {
   "cell_type": "code",
   "execution_count": 24,
   "metadata": {},
   "outputs": [
    {
     "name": "stdout",
     "output_type": "stream",
     "text": [
      "Number of escape seqs: 19 / 19\n",
      "Mean rank: 3758.5526315789475 / 24168\n",
      "Median rank: 3700.5 / 24168\n",
      "Min rank: 122.0 / 24168\n",
      "Max rank: 7814.0 / 24168\n",
      "Rank stdev: 2575.1446147165407 / 24168\n",
      "n_interest: 19, n_total: 24168\n"
     ]
    },
    {
     "ename": "KeyboardInterrupt",
     "evalue": "",
     "output_type": "error",
     "traceback": [
      "\u001b[0;31m---------------------------------------------------------------------------\u001b[0m",
      "\u001b[0;31mKeyboardInterrupt\u001b[0m                         Traceback (most recent call last)",
      "Cell \u001b[0;32mIn[24], line 142\u001b[0m\n\u001b[1;32m    126\u001b[0m     \u001b[38;5;28mprint\u001b[39m(\n\u001b[1;32m    127\u001b[0m         \u001b[38;5;124m\"\u001b[39m\u001b[38;5;132;01m{:.4g}\u001b[39;00m\u001b[38;5;124m (mean log prob), \u001b[39m\u001b[38;5;132;01m{:.4g}\u001b[39;00m\u001b[38;5;124m (mean log prob escape), \u001b[39m\u001b[38;5;124m\"\u001b[39m\n\u001b[1;32m    128\u001b[0m         \u001b[38;5;124m\"\u001b[39m\u001b[38;5;132;01m{:.4g}\u001b[39;00m\u001b[38;5;124m (p-value)\u001b[39m\u001b[38;5;124m\"\u001b[39m\u001b[38;5;241m.\u001b[39mformat(\n\u001b[0;32m   (...)\u001b[0m\n\u001b[1;32m    132\u001b[0m         )\n\u001b[1;32m    133\u001b[0m     )\n\u001b[1;32m    134\u001b[0m     \u001b[38;5;28mprint\u001b[39m(\n\u001b[1;32m    135\u001b[0m         \u001b[38;5;124m\"\u001b[39m\u001b[38;5;132;01m{:.4g}\u001b[39;00m\u001b[38;5;124m (mean log change), \u001b[39m\u001b[38;5;132;01m{:.4g}\u001b[39;00m\u001b[38;5;124m (mean log change escape), \u001b[39m\u001b[38;5;124m\"\u001b[39m\n\u001b[1;32m    136\u001b[0m         \u001b[38;5;124m\"\u001b[39m\u001b[38;5;132;01m{:.4g}\u001b[39;00m\u001b[38;5;124m (p-value)\u001b[39m\u001b[38;5;124m\"\u001b[39m\u001b[38;5;241m.\u001b[39mformat(\n\u001b[0;32m   (...)\u001b[0m\n\u001b[1;32m    140\u001b[0m         )\n\u001b[1;32m    141\u001b[0m     )\n\u001b[0;32m--> 142\u001b[0m result \u001b[38;5;241m=\u001b[39m \u001b[43mcached_escape_original\u001b[49m\u001b[43m(\u001b[49m\u001b[43mcov_codon_path\u001b[49m\u001b[43m)\u001b[49m\n",
      "Cell \u001b[0;32mIn[24], line 118\u001b[0m, in \u001b[0;36mcached_escape_original\u001b[0;34m(cache_fname)\u001b[0m\n\u001b[1;32m    115\u001b[0m     null_distribution \u001b[38;5;241m=\u001b[39m np\u001b[38;5;241m.\u001b[39marray(null_distribution)\n\u001b[1;32m    116\u001b[0m     \u001b[38;5;28;01mreturn\u001b[39;00m \u001b[38;5;28msum\u001b[39m(null_distribution \u001b[38;5;241m>\u001b[39m\u001b[38;5;241m=\u001b[39m true_val) \u001b[38;5;241m/\u001b[39m n_permutations\n\u001b[0;32m--> 118\u001b[0m norm_auc_p \u001b[38;5;241m=\u001b[39m \u001b[43mcompute_p\u001b[49m\u001b[43m(\u001b[49m\u001b[43mnorm_auc\u001b[49m\u001b[43m,\u001b[49m\u001b[43m \u001b[49m\u001b[38;5;28;43msum\u001b[39;49m\u001b[43m(\u001b[49m\u001b[43mescape_idx\u001b[49m\u001b[43m)\u001b[49m\u001b[43m,\u001b[49m\u001b[43m \u001b[49m\u001b[38;5;28;43mlen\u001b[39;49m\u001b[43m(\u001b[49m\u001b[43mescape_idx\u001b[49m\u001b[43m)\u001b[49m\u001b[43m)\u001b[49m\n\u001b[1;32m    119\u001b[0m norm_auc_p2 \u001b[38;5;241m=\u001b[39m compute_p(norm_auc2, \u001b[38;5;28msum\u001b[39m(escape_idx), \u001b[38;5;28mlen\u001b[39m(escape_idx))\n\u001b[1;32m    121\u001b[0m \u001b[38;5;28mprint\u001b[39m(\u001b[38;5;124m\"\u001b[39m\u001b[38;5;124mAUC (CSCS): \u001b[39m\u001b[38;5;132;01m{}\u001b[39;00m\u001b[38;5;124m, P = \u001b[39m\u001b[38;5;132;01m{}\u001b[39;00m\u001b[38;5;124m\"\u001b[39m\u001b[38;5;241m.\u001b[39mformat(norm_auc, norm_auc_p))\n",
      "Cell \u001b[0;32mIn[24], line 113\u001b[0m, in \u001b[0;36mcached_escape_original.<locals>.compute_p\u001b[0;34m(true_val, n_interest, n_total, n_permutations)\u001b[0m\n\u001b[1;32m    111\u001b[0m             n_acquired \u001b[38;5;241m+\u001b[39m\u001b[38;5;241m=\u001b[39m \u001b[38;5;241m1\u001b[39m\n\u001b[1;32m    112\u001b[0m         acquired\u001b[38;5;241m.\u001b[39mappend(n_acquired)\n\u001b[0;32m--> 113\u001b[0m         total\u001b[38;5;241m.\u001b[39mappend(i \u001b[38;5;241m+\u001b[39m \u001b[38;5;241m1\u001b[39m)\n\u001b[1;32m    114\u001b[0m     null_distribution\u001b[38;5;241m.\u001b[39mappend(auc(total, acquired) \u001b[38;5;241m/\u001b[39m norm)\n\u001b[1;32m    115\u001b[0m null_distribution \u001b[38;5;241m=\u001b[39m np\u001b[38;5;241m.\u001b[39marray(null_distribution)\n",
      "\u001b[0;31mKeyboardInterrupt\u001b[0m: "
     ]
    }
   ],
   "source": [
    "\"\"\"\n",
    "copied from original code\n",
    "things need for getting auc: n_escape, n_escape_change, n_escape_prob, n_consider\n",
    "things need for geeting n_escape, n_escpae_change, n_escape_prob: \n",
    "escape_rank_dist, escape_rank_change, escape_rank_prob, max_consider\n",
    "\"\"\"\n",
    "def cached_escape_original(cache_fname):\n",
    "    from escape import load_baum2020\n",
    "    wt_seq, seqs_escape = load_baum2020('../data/cov/cov2_spike_wt.fasta')\n",
    "    prob, change, escape_idx, viable_idx = [], [], [], []\n",
    "    codon, orig_codon = [], []\n",
    "    with open(cache_fname) as f:\n",
    "        f.readline()\n",
    "        for line in f:\n",
    "            fields = line.rstrip().split(\"\\t\")\n",
    "            pos = int(fields[0])\n",
    "            if \"rbd\" in cache_fname:\n",
    "                if pos < 330 or pos > 530:\n",
    "                    continue\n",
    "            if fields[2] in {\"U\", \"B\", \"J\", \"X\", \"Z\"}:\n",
    "                continue\n",
    "            aa_wt = fields[1]\n",
    "            aa_mut = fields[2]\n",
    "            assert wt_seq[pos] == aa_wt, \\\n",
    "            f\"pos = {pos}, wt = {wt_seq[pos]}, aa_wt = {aa_wt} wt should be equal to aa_wt.\"\n",
    "            mut_seq = wt_seq[:pos] + aa_mut + wt_seq[pos + 1 :]\n",
    "            if mut_seq not in seqs_escape:\n",
    "                continue\n",
    "            prob.append(float(fields[3]))\n",
    "            change.append(float(fields[4]))\n",
    "            viable_idx.append(fields[5] == \"True\")\n",
    "            escape_idx.append(\n",
    "                (mut_seq in seqs_escape)\n",
    "                and (sum([m[\"significant\"] for m in seqs_escape[mut_seq]]) > 0)\n",
    "            )\n",
    "            codon.append(float(fields[7]))\n",
    "\n",
    "    prob, orig_prob = np.array(prob), np.array(prob)\n",
    "    change, orig_change = np.array(change), np.array(change)\n",
    "    escape_idx = np.array(escape_idx)\n",
    "    viable_idx = np.array(viable_idx)\n",
    "    codon, orig_codon = np.array(codon), np.array(codon)\n",
    "\n",
    "    beta = 1.0\n",
    "    acquisition = ss.rankdata(change) + (beta * ss.rankdata(prob))\n",
    "    acquisition2 = ss.rankdata(codon) + ss.rankdata(change) + ss.rankdata(prob)\n",
    "    pos_change_idx = change > 0\n",
    "\n",
    "    pos_change_escape_idx = np.logical_and(pos_change_idx, escape_idx)\n",
    "    escape_prob = prob[pos_change_escape_idx]\n",
    "    escape_change = change[pos_change_escape_idx]\n",
    "    prob = prob[pos_change_idx]\n",
    "    change = change[pos_change_idx]\n",
    "\n",
    "    log_prob, log_change = np.log10(prob), np.log10(change)\n",
    "    log_escape_prob, log_escape_change = (\n",
    "        np.log10(escape_prob),\n",
    "        np.log10(escape_change),\n",
    "    )\n",
    "\n",
    "    acq_argsort = ss.rankdata(-acquisition)\n",
    "    escape_rank_dist = acq_argsort[escape_idx]\n",
    "\n",
    "    acq_argsort2 = ss.rankdata(-acquisition2)\n",
    "    escape_rank_dist2 = acq_argsort2[escape_idx]\n",
    "\n",
    "    size = len(prob)\n",
    "    print(\n",
    "        \"Number of escape seqs: {} / {}\".format(len(escape_rank_dist), sum(escape_idx))\n",
    "    )\n",
    "    print(\"Mean rank: {} / {}\".format(np.mean(escape_rank_dist), size))\n",
    "    print(\"Median rank: {} / {}\".format(np.median(escape_rank_dist), size))\n",
    "    print(\"Min rank: {} / {}\".format(np.min(escape_rank_dist), size))\n",
    "    print(\"Max rank: {} / {}\".format(np.max(escape_rank_dist), size))\n",
    "    print(\"Rank stdev: {} / {}\".format(np.std(escape_rank_dist), size))\n",
    "\n",
    "    max_consider = len(prob)\n",
    "    n_consider = np.array([i + 1 for i in range(max_consider)])\n",
    "\n",
    "    n_escape = np.array([sum(escape_rank_dist <= i + 1) for i in range(max_consider)])\n",
    "    norm = max(n_consider) * max(n_escape)\n",
    "    norm_auc = auc(n_consider, n_escape) / norm\n",
    "\n",
    "\n",
    "    n_escape2 = np.array([sum(escape_rank_dist2 <= i + 1) for i in range(max_consider)])\n",
    "    norm_auc2 = auc(n_consider, n_escape2) / norm\n",
    "\n",
    "    escape_rank_prob = ss.rankdata(-orig_prob)[escape_idx]\n",
    "    n_escape_prob = np.array(\n",
    "        [sum(escape_rank_prob <= i + 1) for i in range(max_consider)]\n",
    "    )\n",
    "    norm_auc_prob = auc(n_consider, n_escape_prob) / norm\n",
    "\n",
    "    escape_rank_change = ss.rankdata(-orig_change)[escape_idx]\n",
    "    n_escape_change = np.array(\n",
    "        [sum(escape_rank_change <= i + 1) for i in range(max_consider)]\n",
    "    )\n",
    "    norm_auc_change = auc(n_consider, n_escape_change) / norm\n",
    "    \n",
    "\n",
    "    def compute_p(true_val, n_interest, n_total, n_permutations=10000):\n",
    "        print(f'n_interest: {n_interest}, n_total: {n_total}')\n",
    "        null_distribution = []\n",
    "        norm = n_interest * n_total\n",
    "        for _ in range(n_permutations):\n",
    "            interest = set(np.random.choice(n_total, size=n_interest, replace=False))\n",
    "            n_acquired = 0\n",
    "            acquired, total = [], []\n",
    "            for i in range(n_total):\n",
    "                if i in interest:\n",
    "                    n_acquired += 1\n",
    "                acquired.append(n_acquired)\n",
    "                total.append(i + 1)\n",
    "            null_distribution.append(auc(total, acquired) / norm)\n",
    "        null_distribution = np.array(null_distribution)\n",
    "        return sum(null_distribution >= true_val) / n_permutations\n",
    "\n",
    "    norm_auc_p = compute_p(norm_auc, sum(escape_idx), len(escape_idx))\n",
    "    norm_auc_p2 = compute_p(norm_auc2, sum(escape_idx), len(escape_idx))\n",
    "\n",
    "    print(\"AUC (CSCS): {}, P = {}\".format(norm_auc, norm_auc_p))\n",
    "    print(\"AUC (Codon): {}, P = {}\".format(norm_auc2, norm_auc_p2))\n",
    "    print(\"AUC (semantic change only): {}\".format(norm_auc_change))\n",
    "    print(\"AUC (grammaticality only): {}\".format(norm_auc_prob))\n",
    "\n",
    "    print(\n",
    "        \"{:.4g} (mean log prob), {:.4g} (mean log prob escape), \"\n",
    "        \"{:.4g} (p-value)\".format(\n",
    "            log_prob.mean(),\n",
    "            log_escape_prob.mean(),\n",
    "            ss.mannwhitneyu(log_prob, log_escape_prob, alternative=\"two-sided\")[1],\n",
    "        )\n",
    "    )\n",
    "    print(\n",
    "        \"{:.4g} (mean log change), {:.4g} (mean log change escape), \"\n",
    "        \"{:.4g} (p-value)\".format(\n",
    "            change.mean(),\n",
    "            escape_change.mean(),\n",
    "            ss.mannwhitneyu(change, escape_change, alternative=\"two-sided\")[1],\n",
    "        )\n",
    "    )\n",
    "result = cached_escape_original(cov_codon_path)\n"
   ]
  },
  {
   "cell_type": "code",
   "execution_count": null,
   "metadata": {},
   "outputs": [],
   "source": [
    "\"\"\"what compute_p doing is to compute the p-value of the auc value of the true data,\"\"\""
   ]
  },
  {
   "cell_type": "code",
   "execution_count": 18,
   "metadata": {},
   "outputs": [
    {
     "data": {
      "text/plain": [
       "(0.8659576887100414, 0.8390053866706172, 0.6598051358553816)"
      ]
     },
     "execution_count": 18,
     "metadata": {},
     "output_type": "execute_result"
    }
   ],
   "source": [
    "# 1. before start test the main function in cached_semantics.py first\n",
    "def get_aucs(df: pd.DataFrame):\n",
    "    \"\"\"What we need is sars-cov-2 related results, so we ignore codes not related \n",
    "    to sars-cov-2.\n",
    "    wt_seq & seqs_escape are used to calculate AUC.\n",
    "    \"\"\"\n",
    "    \"\"\"get prob & orig_prob from table\n",
    "    escape_rank_dist, escape_idx\n",
    "    acquisition = CSCS score (rank base)\n",
    "     = apply rank to the array(grammar and semantic change) and sum\n",
    "\n",
    "    target values: norm_auc, norm_auc_prob, norm_auc_change\n",
    "\n",
    "    for RBD, ignore pos < 330 or pos > 530\n",
    "    \"\"\"\n",
    "    grammaticalities = df['prob']\n",
    "    semantic_changes = df['change']\n",
    "\n",
    "    gram_ranks = grammaticalities.rank(ascending=False)\n",
    "    sem_ranks = semantic_changes.rank(ascending=False)\n",
    "\n",
    "    escape_indices = df[df['is_escape'] == True].index\n",
    "    # acquisition = cscs_scores\n",
    "    cscs_scores = gram_ranks + sem_ranks\n",
    "    len_probs = len(grammaticalities)\n",
    "    num_to_consider = list(range(1, len(grammaticalities) + 1))\n",
    "    # escape mutants rank of cscs score\n",
    "    escape_ranks_cscs = cscs_scores.rank()[escape_indices]\n",
    "    escape_ranks_gram = gram_ranks[escape_indices]\n",
    "    escape_ranks_sem = sem_ranks[escape_indices]\n",
    "    n_escape_cscs = [sum(escape_ranks_cscs <= i + 1) for i in range(len_probs)]\n",
    "    n_escape_gram = [sum(escape_ranks_gram <= i + 1) for i in range(len_probs)]\n",
    "    n_escape_sem = [sum(escape_ranks_sem <= i + 1) for i in range(len_probs)]\n",
    "\n",
    "    norm = (len_probs + 1) * len(escape_ranks_cscs)\n",
    "\n",
    "    # auc of cscs\n",
    "    norm_auc_cscs = auc(num_to_consider, n_escape_cscs) / norm\n",
    "    # auc of grammaticalities\n",
    "    norm_auc_gram = auc(num_to_consider, n_escape_gram) / norm\n",
    "    # auc of semantic change \n",
    "    norm_auc_sem = auc(num_to_consider, n_escape_sem) / norm\n",
    "    \n",
    "    return (norm_auc_cscs, norm_auc_gram, norm_auc_sem)"
   ]
  },
  {
   "cell_type": "markdown",
   "metadata": {},
   "source": []
  },
  {
   "cell_type": "markdown",
   "metadata": {},
   "source": [
    "Number of escape seqs: 19 / 19\n",
    "Mean rank: 3757.657894736842 / 24187\n",
    "Median rank: 3700.0 / 24187\n",
    "Min rank: 122.0 / 24187\n",
    "Max rank: 7815.0 / 24187\n",
    "Rank stdev: 2574.3142267849016 / 24187\n",
    "AUC (CSCS): 0.8446610075442876, P = 0.0\n",
    "AUC (semantic change only): 0.6364478090666364\n",
    "AUC (grammaticality only): 0.7966774234963105\n",
    "-6.262 (mean log prob), -4.557 (mean log prob escape), 7.539e-06 (p-value)\n",
    "3717 (mean log change), 3958 (mean log change escape), 0.03944 (p-value)\n"
   ]
  },
  {
   "cell_type": "code",
   "execution_count": 18,
   "metadata": {},
   "outputs": [
    {
     "ename": "AssertionError",
     "evalue": "pos = 2, wt = L, aa_wt = F wt should be equal to aa_wt.",
     "output_type": "error",
     "traceback": [
      "\u001b[0;31m---------------------------------------------------------------------------\u001b[0m",
      "\u001b[0;31mAssertionError\u001b[0m                            Traceback (most recent call last)",
      "Cell \u001b[0;32mIn[18], line 142\u001b[0m\n\u001b[1;32m    126\u001b[0m     \u001b[38;5;28mprint\u001b[39m(\n\u001b[1;32m    127\u001b[0m         \u001b[38;5;124m\"\u001b[39m\u001b[38;5;132;01m{:.4g}\u001b[39;00m\u001b[38;5;124m (mean log prob), \u001b[39m\u001b[38;5;132;01m{:.4g}\u001b[39;00m\u001b[38;5;124m (mean log prob escape), \u001b[39m\u001b[38;5;124m\"\u001b[39m\n\u001b[1;32m    128\u001b[0m         \u001b[38;5;124m\"\u001b[39m\u001b[38;5;132;01m{:.4g}\u001b[39;00m\u001b[38;5;124m (p-value)\u001b[39m\u001b[38;5;124m\"\u001b[39m\u001b[38;5;241m.\u001b[39mformat(\n\u001b[0;32m   (...)\u001b[0m\n\u001b[1;32m    132\u001b[0m         )\n\u001b[1;32m    133\u001b[0m     )\n\u001b[1;32m    134\u001b[0m     \u001b[38;5;28mprint\u001b[39m(\n\u001b[1;32m    135\u001b[0m         \u001b[38;5;124m\"\u001b[39m\u001b[38;5;132;01m{:.4g}\u001b[39;00m\u001b[38;5;124m (mean log change), \u001b[39m\u001b[38;5;132;01m{:.4g}\u001b[39;00m\u001b[38;5;124m (mean log change escape), \u001b[39m\u001b[38;5;124m\"\u001b[39m\n\u001b[1;32m    136\u001b[0m         \u001b[38;5;124m\"\u001b[39m\u001b[38;5;132;01m{:.4g}\u001b[39;00m\u001b[38;5;124m (p-value)\u001b[39m\u001b[38;5;124m\"\u001b[39m\u001b[38;5;241m.\u001b[39mformat(\n\u001b[0;32m   (...)\u001b[0m\n\u001b[1;32m    140\u001b[0m         )\n\u001b[1;32m    141\u001b[0m     )\n\u001b[0;32m--> 142\u001b[0m result \u001b[38;5;241m=\u001b[39m \u001b[43mcached_escape_original\u001b[49m\u001b[43m(\u001b[49m\u001b[43mcov_codon_path\u001b[49m\u001b[43m)\u001b[49m\n",
      "Cell \u001b[0;32mIn[18], line 25\u001b[0m, in \u001b[0;36mcached_escape_original\u001b[0;34m(cache_fname)\u001b[0m\n\u001b[1;32m     23\u001b[0m aa_wt \u001b[38;5;241m=\u001b[39m fields[\u001b[38;5;241m1\u001b[39m]\n\u001b[1;32m     24\u001b[0m aa_mut \u001b[38;5;241m=\u001b[39m fields[\u001b[38;5;241m2\u001b[39m]\n\u001b[0;32m---> 25\u001b[0m \u001b[38;5;28;01massert\u001b[39;00m wt_seq[pos] \u001b[38;5;241m==\u001b[39m aa_wt, \\\n\u001b[1;32m     26\u001b[0m \u001b[38;5;124mf\u001b[39m\u001b[38;5;124m\"\u001b[39m\u001b[38;5;124mpos = \u001b[39m\u001b[38;5;132;01m{\u001b[39;00mpos\u001b[38;5;132;01m}\u001b[39;00m\u001b[38;5;124m, wt = \u001b[39m\u001b[38;5;132;01m{\u001b[39;00mwt_seq[pos]\u001b[38;5;132;01m}\u001b[39;00m\u001b[38;5;124m, aa_wt = \u001b[39m\u001b[38;5;132;01m{\u001b[39;00maa_wt\u001b[38;5;132;01m}\u001b[39;00m\u001b[38;5;124m wt should be equal to aa_wt.\u001b[39m\u001b[38;5;124m\"\u001b[39m\n\u001b[1;32m     27\u001b[0m mut_seq \u001b[38;5;241m=\u001b[39m wt_seq[:pos] \u001b[38;5;241m+\u001b[39m aa_mut \u001b[38;5;241m+\u001b[39m wt_seq[pos \u001b[38;5;241m+\u001b[39m \u001b[38;5;241m1\u001b[39m :]\n\u001b[1;32m     28\u001b[0m \u001b[38;5;28;01mif\u001b[39;00m mut_seq \u001b[38;5;129;01mnot\u001b[39;00m \u001b[38;5;129;01min\u001b[39;00m seqs_escape:\n",
      "\u001b[0;31mAssertionError\u001b[0m: pos = 2, wt = L, aa_wt = F wt should be equal to aa_wt."
     ]
    }
   ],
   "source": []
  },
  {
   "cell_type": "code",
   "execution_count": 15,
   "metadata": {},
   "outputs": [
    {
     "name": "stdout",
     "output_type": "stream",
     "text": [
      "MFVFLVLLPLVSSQCVNLTTRTQLPPAYTNSFTRGVYYPDKVFRSSVLHSTQDLFLPFFSNVTWFHAIHVSGTNGTKRFDNPVLPFNDGVYFASTEKSNIIRGWIFGTTLDSKTQSLLIVNNATNVVIKVCEFQFCNDPFLGVYYHKNNKSWMESEFRVYSSANNCTFEYVSQPFLMDLEGKQGNFKNLREFVFKNIDGYFKIYSKHTPINLVRDLPQGFSALEPLVDLPIGINITRFQTLLALHRSYLTPGDSSSGWTAGAAAYYVGYLQPRTFLLKYNENGTITDAVDCALDPLSETKCTLKSFTVEKGIYQTSNFRVQPTESIVRFPNITNLCPFGEVFNATRFASVYAWNRKRISNCVADYSVLYNSASFSTFKCYGVSPTKLNDLCFTNVYADSFVIRGDEVRQIAPGQTGKIADYNYKLPDDFTGCVIAWNSNNLDSKVGGNYNYLYRLFRKSNLKPFERDISTEIYQAGSTPCNGVEGFNCYFPLQSYGFQPTNGVGYQPYRVVVLSFELLHAPATVCGPKKSTNLVKNKCVNFNFNGLTGTGVLTESNKKFLPFQQFGRDIADTTDAVRDPQTLEILDITPCSFGGVSVITPGTNTSNQVAVLYQDVNCTEVPVAIHADQLTPTWRVYSTGSNVFQTRAGCLIGAEHVNNSYECDIPIGAGICASYQTQTNSPRRARSVASQSIIAYTMSLGAENSVAYSNNSIAIPTNFTISVTTEILPVSMTKTSVDCTMYICGDSTECSNLLLQYGSFCTQLNRALTGIAVEQDKNTQEVFAQVKQIYKTPPIKDFGGFNFSQILPDPSKPSKRSFIEDLLFNKVTLADAGFIKQYGDCLGDIAARDLICAQKFNGLTVLPPLLTDEMIAQYTSALLAGTITSGWTFGAGAALQIPFAMQMAYRFNGIGVTQNVLYENQKLIANQFNSAIGKIQDSLSSTASALGKLQDVVNQNAQALNTLVKQLSSNFGAISSVLNDILSRLDKVEAEVQIDRLITGRLQSLQTYVTQQLIRAAEIRASANLAATKMSECVLGQSKRVDFCGKGYHLMSFPQSAPHGVVFLHVTYVPAQEKNFTTAPAICHDGKAHFPREGVFVSNGTHWFVTQRNFYEPQIITTDNTFVSGNCDVVIGIVNNTVYDPLQPELDSFKEELDKYFKNHTSPDVDLGDISGINASVVNIQKEIDRLNEVAKNLNESLIDLQELGKYEQYIKWPWYIWLGFIAGLIAIVMVTIMLCCMTSCCSCLKGCCSCGSCCKFDEDDSEPVLKGVKLHYT\n",
      "FVFLVLLPLVSSQCVNLTTRTQLPPAYTNSFTRGVYYPDKVFRSSVLHSTQDLFLPFFSNVTWFHAIHVSGTNGTKRFDNPVLPFNDGVYFASTEKSNIIRGWIFGTTLDSKTQSLLIVNNATNVVIKVCEFQFCNDPFLGVYYHKNNKSWMESEFRVYSSANNCTFEYVSQPFLMDLEGKQGNFKNLREFVFKNIDGYFKIYSKHTPINLVRDLPQGFSALEPLVDLPIGINITRFQTLLALHRSYLTPGDSSSGWTAGAAAYYVGYLQPRTFLLKYNENGTITDAVDCALDPLSETKCTLKSFTVEKGIYQTSNFRVQPTESIVRFPNITNLCPFGEVFNATRFASVYAWNRKRISNCVADYSVLYNSASFSTFKCYGVSPTKLNDLCFTNVYADSFVIRGDEVRQIAPGQTGKIADYNYKLPDDFTGCVIAWNSNNLDSKVGGNYNYLYRLFRKSNLKPFERDISTEIYQAGSTPCNGVEGFNCYFPLQSYGFQPTNGVGYQPYRVVVLSFELLHAPATVCGPKKSTNLVKNKCVNFNFNGLTGTGVLTESNKKFLPFQQFGRDIADTTDAVRDPQTLEILDITPCSFGGVSVITPGTNTSNQVAVLYQDVNCTEVPVAIHADQLTPTWRVYSTGSNVFQTRAGCLIGAEHVNNSYECDIPIGAGICASYQTQTNSPRRARSVASQSIIAYTMSLGAENSVAYSNNSIAIPTNFTISVTTEILPVSMTKTSVDCTMYICGDSTECSNLLLQYGSFCTQLNRALTGIAVEQDKNTQEVFAQVKQIYKTPPIKDFGGFNFSQILPDPSKPSKRSFIEDLLFNKVTLADAGFIKQYGDCLGDIAARDLICAQKFNGLTVLPPLLTDEMIAQYTSALLAGTITSGWTFGAGAALQIPFAMQMAYRFNGIGVTQNVLYENQKLIANQFNSAIGKIQDSLSSTASALGKLQDVVNQNAQALNTLVKQLSSNFGAISSVLNDILSRLDKVEAEVQIDRLITGRLQSLQTYVTQQLIRAAEIRASANLAATKMSECVLGQSKRVDFCGKGYHLMSFPQSAPHGVVFLHVTYVPAQEKNFTTAPAICHDGKAHFPREGVFVSNGTHWFVTQRNFYEPQIITTDNTFVSGNCDVVIGIVNNTVYDPLQPELDSFKEELDKYFKNHTSPDVDLGDISGINASVVNIQKEIDRLNEVAKNLNESLIDLQELGKYEQYIKWPWYIWLGFIAGLIAIVMVTIMLCCMTSCCSCLKGCCSCGSCCKFDEDDSEPVLKGVKLHYT\n"
     ]
    }
   ],
   "source": [
    "from escape import load_baum2020\n",
    "wt_seq, seqs_escape = load_baum2020('../data/cov/cov2_spike_wt.fasta')\n",
    "print(wt_seq)\n",
    "print(wt_seq[1:])\n"
   ]
  }
 ],
 "metadata": {
  "kernelspec": {
   "display_name": "conda-mut",
   "language": "python",
   "name": "python3"
  },
  "language_info": {
   "codemirror_mode": {
    "name": "ipython",
    "version": 3
   },
   "file_extension": ".py",
   "mimetype": "text/x-python",
   "name": "python",
   "nbconvert_exporter": "python",
   "pygments_lexer": "ipython3",
   "version": "3.11.7"
  }
 },
 "nbformat": 4,
 "nbformat_minor": 2
}
