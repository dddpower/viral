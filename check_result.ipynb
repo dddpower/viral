{
 "cells": [
  {
   "cell_type": "code",
   "execution_count": 16,
   "metadata": {
    "metadata": {}
   },
   "outputs": [],
   "source": [
    "import pandas as pd\n",
    "fname = \"0509_flu.csv\"\n",
    "df = pd.read_csv(fname)"
   ]
  },
  {
   "cell_type": "code",
   "execution_count": 17,
   "metadata": {
    "metadata": {}
   },
   "outputs": [
    {
     "name": "stdout",
     "output_type": "stream",
     "text": [
      "mean and std of grammar rank+semantic rank rank is 2058.205882352941, 1914.859297431348\n",
      "mean and std of grammar rank+pos_indep_rank rank is 3189.929411764706, 2414.1186211289014\n",
      "mean and std of grammar rank+pos_dep_rank rank is 3540.5529411764705, 2555.9632027144585\n",
      "mean and std of semantic rank+pos_indep_rank rank is 3789.764705882353, 2717.1918507489563\n",
      "mean and std of semantic rank+pos_dep_rank rank is 4192.170588235294, 2895.9568673977265\n",
      "mean and std of pos_indep_rank+pos_dep_rank rank is 5043.764705882353, 3089.5752648366006\n",
      "mean and std of grammar rank+semantic rank+pos_indep_rank rank is 2550.4470588235295, 2173.2032883933352\n",
      "mean and std of grammar rank+semantic rank+pos_dep_rank rank is 2864.3, 2354.112415433265\n",
      "mean and std of grammar rank+pos_indep_rank+pos_dep_rank rank is 3943.141176470588, 2764.367942579841\n",
      "mean and std of semantic rank+pos_indep_rank+pos_dep_rank rank is 4404.211764705882, 2991.035599067714\n"
     ]
    }
   ],
   "source": [
    "from itertools import combinations\n",
    "def mean_std_helper(name):\n",
    "    return f'mean and std of {name} is {df[name].mean()}, {df[name].std()}'\n",
    "\n",
    "for x, y in combinations([\"grammar rank\", \"semantic rank\", \"pos_indep_rank\", \"pos_dep_rank\"], 2):\n",
    "    df[\"+\".join((x, y)) + \" rank\"] = (df[x] + df[y]).rank(method='min', ascending=True)\n",
    "\n",
    "for x, y, z in combinations([\"grammar rank\", \"semantic rank\", \"pos_indep_rank\", \"pos_dep_rank\"], 3):\n",
    "    df[\"+\".join((x, y, z)) + \" rank\"] = (df[x] + df[y] + df[z]).rank(method='min', ascending=True)\n",
    "\n",
    "df = df[df['is_escape'] == True]\n",
    "\n",
    "for _ in map(mean_std_helper, filter(lambda string: \"rank rank\" in string, df.columns)):\n",
    "    with open(fname + \".result.txt\", \"w\") as file:\n",
    "        file.write(_)"
   ]
  }
 ],
 "metadata": {
  "kernelspec": {
   "display_name": "conda-mut",
   "language": "python",
   "name": "python3"
  },
  "language_info": {
   "codemirror_mode": {
    "name": "ipython",
    "version": 3
   },
   "file_extension": ".py",
   "mimetype": "text/x-python",
   "name": "python",
   "nbconvert_exporter": "python",
   "pygments_lexer": "ipython3",
   "version": "3.11.7"
  }
 },
 "nbformat": 4,
 "nbformat_minor": 2
}
