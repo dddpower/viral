{
 "cells": [
  {
   "cell_type": "code",
   "execution_count": null,
   "metadata": {},
   "outputs": [],
   "source": [
    "kk"
   ]
  },
  {
   "cell_type": "markdown",
   "metadata": {},
   "source": [
    "### about data\n",
    "### description of original data\n",
    "### about scoring\n",
    "We used mean and variance of ranks of the escape mutants to evaluate the model performance.\n",
    "Original model(CSCS) got XX and YY mean and variance respectively/\n",
    "Ours got XX2 and YY2 which seems better than the existing model.\n",
    "We also compare models by AUC.\n",
    "AA-position dependent, AA-position independent probability were seperately used to make post process.\n",
    "1. biological interpretation of the result\n",
    "2. description of post process\n",
    "* position dependent probability\n",
    "\n",
    "* position independent probability\n",
    "mutation probability is fixed for each codon transformation.\n",
    "The form looks like A->B\n",
    "* position dependent probability\n",
    "mutation probability is influenced by the adjacent amino acid. This is defined by\n",
    "XX->XX form. So 4^4 = 256 cases exist in this view.\n",
    "* post process algorithm\n",
    "codon mutation probability term was added to the original rank formula\n",
    "## informations to be referred\n",
    "DMS detail\n",
    "escape mutant rank formula\n",
    "### essentail of the formula\n",
    "priority score can be expressed as\n",
    "$$\n",
    "a'(\\tilde{x_i};\\mathbf{x})={rank(\\triangle z[\\tilde{x_i}]) + \\alpha \\cdot rank(p(\\tilde{x_i} | \\mathbf{x}))}\n",
    "$$\n",
    "codon mutation\n",
    "We added additional codon mutation scoring term to the original formula.\n",
    "$$\n",
    "a'(\\tilde{x_i};\\mathbf{x})={rank(\\triangle z[\\tilde{x_i}]) + \\alpha \\cdot rank(p_1(\\tilde{x_i} | \\mathbf{x}))}\n",
    " + \\beta \\cdot rank(p_2(\\tilde{x_i}|\\mathbf{x}))\n",
    "$$"
   ]
  }
 ],
 "metadata": {
  "language_info": {
   "name": "python"
  }
 },
 "nbformat": 4,
 "nbformat_minor": 2
}
