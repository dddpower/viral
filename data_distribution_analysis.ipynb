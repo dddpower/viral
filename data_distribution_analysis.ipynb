{
 "cells": [
  {
   "cell_type": "code",
   "execution_count": 18,
   "metadata": {},
   "outputs": [
    {
     "data": {
      "text/html": [
       "<div>\n",
       "<style scoped>\n",
       "    .dataframe tbody tr th:only-of-type {\n",
       "        vertical-align: middle;\n",
       "    }\n",
       "\n",
       "    .dataframe tbody tr th {\n",
       "        vertical-align: top;\n",
       "    }\n",
       "\n",
       "    .dataframe thead th {\n",
       "        text-align: right;\n",
       "    }\n",
       "</style>\n",
       "<table border=\"1\" class=\"dataframe\">\n",
       "  <thead>\n",
       "    <tr style=\"text-align: right;\">\n",
       "      <th></th>\n",
       "      <th>ID</th>\n",
       "      <th>Sequence</th>\n",
       "      <th>Length</th>\n",
       "    </tr>\n",
       "  </thead>\n",
       "  <tbody>\n",
       "    <tr>\n",
       "      <th>0</th>\n",
       "      <td>YP_009724390.1</td>\n",
       "      <td>(M, F, V, F, L, V, L, L, P, L, V, S, S, Q, C, ...</td>\n",
       "      <td>1273</td>\n",
       "    </tr>\n",
       "    <tr>\n",
       "      <th>1</th>\n",
       "      <td>BCG52831.1</td>\n",
       "      <td>(M, F, V, F, L, V, L, L, P, L, V, S, S, Q, C, ...</td>\n",
       "      <td>1273</td>\n",
       "    </tr>\n",
       "    <tr>\n",
       "      <th>2</th>\n",
       "      <td>QKS65476.1</td>\n",
       "      <td>(M, F, V, F, L, V, L, L, P, L, V, S, S, Q, C, ...</td>\n",
       "      <td>1273</td>\n",
       "    </tr>\n",
       "    <tr>\n",
       "      <th>3</th>\n",
       "      <td>QKS65488.1</td>\n",
       "      <td>(M, F, V, F, L, V, L, L, P, L, V, S, S, Q, C, ...</td>\n",
       "      <td>1273</td>\n",
       "    </tr>\n",
       "    <tr>\n",
       "      <th>4</th>\n",
       "      <td>QKS65608.1</td>\n",
       "      <td>(M, F, V, F, L, V, L, L, P, L, V, S, S, Q, C, ...</td>\n",
       "      <td>1273</td>\n",
       "    </tr>\n",
       "    <tr>\n",
       "      <th>...</th>\n",
       "      <td>...</td>\n",
       "      <td>...</td>\n",
       "      <td>...</td>\n",
       "    </tr>\n",
       "    <tr>\n",
       "      <th>30848</th>\n",
       "      <td>Spike|hCoV-19/Australia/NSW254/2020|2020-03-12...</td>\n",
       "      <td>(M, F, V, F, L, V, L, L, P, L, V, S, S, Q, C, ...</td>\n",
       "      <td>1273</td>\n",
       "    </tr>\n",
       "    <tr>\n",
       "      <th>30849</th>\n",
       "      <td>Spike|hCoV-19/Australia/NSW291/2020|2020-04-03...</td>\n",
       "      <td>(M, F, V, F, L, V, L, L, P, L, V, S, S, Q, C, ...</td>\n",
       "      <td>1273</td>\n",
       "    </tr>\n",
       "    <tr>\n",
       "      <th>30850</th>\n",
       "      <td>Spike|hCoV-19/Australia/NSW302/2020|2020-04-08...</td>\n",
       "      <td>(M, F, V, F, L, V, L, L, P, L, V, S, S, Q, C, ...</td>\n",
       "      <td>1273</td>\n",
       "    </tr>\n",
       "    <tr>\n",
       "      <th>30851</th>\n",
       "      <td>Spike|hCoV-19/Switzerland/100079/2020|2020-03-...</td>\n",
       "      <td>(T, R, G, V, Y, Y, P, D, K, V, F, R, S, S, V, ...</td>\n",
       "      <td>1180</td>\n",
       "    </tr>\n",
       "    <tr>\n",
       "      <th>30852</th>\n",
       "      <td>Spike|hCoV-19/Germany/BAV-MVP0124/2020|2020-03...</td>\n",
       "      <td>(M, F, V, F, L, V, L, L, P, L, V, S, S, Q, C, ...</td>\n",
       "      <td>1273</td>\n",
       "    </tr>\n",
       "  </tbody>\n",
       "</table>\n",
       "<p>30853 rows × 3 columns</p>\n",
       "</div>"
      ],
      "text/plain": [
       "                                                      ID  \\\n",
       "0                                         YP_009724390.1   \n",
       "1                                             BCG52831.1   \n",
       "2                                             QKS65476.1   \n",
       "3                                             QKS65488.1   \n",
       "4                                             QKS65608.1   \n",
       "...                                                  ...   \n",
       "30848  Spike|hCoV-19/Australia/NSW254/2020|2020-03-12...   \n",
       "30849  Spike|hCoV-19/Australia/NSW291/2020|2020-04-03...   \n",
       "30850  Spike|hCoV-19/Australia/NSW302/2020|2020-04-08...   \n",
       "30851  Spike|hCoV-19/Switzerland/100079/2020|2020-03-...   \n",
       "30852  Spike|hCoV-19/Germany/BAV-MVP0124/2020|2020-03...   \n",
       "\n",
       "                                                Sequence  Length  \n",
       "0      (M, F, V, F, L, V, L, L, P, L, V, S, S, Q, C, ...    1273  \n",
       "1      (M, F, V, F, L, V, L, L, P, L, V, S, S, Q, C, ...    1273  \n",
       "2      (M, F, V, F, L, V, L, L, P, L, V, S, S, Q, C, ...    1273  \n",
       "3      (M, F, V, F, L, V, L, L, P, L, V, S, S, Q, C, ...    1273  \n",
       "4      (M, F, V, F, L, V, L, L, P, L, V, S, S, Q, C, ...    1273  \n",
       "...                                                  ...     ...  \n",
       "30848  (M, F, V, F, L, V, L, L, P, L, V, S, S, Q, C, ...    1273  \n",
       "30849  (M, F, V, F, L, V, L, L, P, L, V, S, S, Q, C, ...    1273  \n",
       "30850  (M, F, V, F, L, V, L, L, P, L, V, S, S, Q, C, ...    1273  \n",
       "30851  (T, R, G, V, Y, Y, P, D, K, V, F, R, S, S, V, ...    1180  \n",
       "30852  (M, F, V, F, L, V, L, L, P, L, V, S, S, Q, C, ...    1273  \n",
       "\n",
       "[30853 rows x 3 columns]"
      ]
     },
     "execution_count": 18,
     "metadata": {},
     "output_type": "execute_result"
    }
   ],
   "source": [
    "# alphabet counting for each position for every sequence\n",
    "from Bio import SeqIO\n",
    "from collections import Counter\n",
    "import pandas as pd\n",
    "cov_records = SeqIO.parse(open(\"data/cov/cov_all.fa\"), \"fasta\")\n",
    "\n",
    "def fasta_iterator(records):\n",
    "    for record in records:\n",
    "        yield record.id, record.seq, len(record.seq)\n",
    "\n",
    "df = pd.DataFrame(fasta_iterator(cov_records), columns = [\"ID\", \"Sequence\", \"Length\"])\n",
    "df"
   ]
  },
  {
   "cell_type": "code",
   "execution_count": 25,
   "metadata": {},
   "outputs": [
    {
     "data": {
      "text/plain": [
       "pandas.core.series.Series"
      ]
     },
     "execution_count": 25,
     "metadata": {},
     "output_type": "execute_result"
    }
   ],
   "source": [
    "import numpy as np\n",
    "seq_array = df[\"Sequence\"]\n",
    "type(seq_array)\n",
    "# # Sample 1D array of strings\n",
    "# strings_array = np.array([\"hello\", \"world\", \"numpy\"])\n",
    "# \n",
    "# # Find the maximum length of strings in the array\n",
    "# max_length = max(len(s) for s in seq_array)\n",
    "# \n",
    "# # Pad strings to have the same length and convert each to a list of characters\n",
    "# chars_2d_list = [list(s.ljust(max_length)) for s in strings_array]\n",
    "# \n",
    "# # Convert the list of lists into a 2D NumPy array of characters\n",
    "# chars_2d_array = np.array(chars_2d_list)\n",
    "# \n",
    "# print(chars_2d_array)"
   ]
  },
  {
   "cell_type": "code",
   "execution_count": 37,
   "metadata": {},
   "outputs": [
    {
     "ename": "TypeError",
     "evalue": "'builtin_function_or_method' object is not iterable",
     "output_type": "error",
     "traceback": [
      "\u001b[0;31m---------------------------------------------------------------------------\u001b[0m",
      "\u001b[0;31mTypeError\u001b[0m                                 Traceback (most recent call last)",
      "Cell \u001b[0;32mIn[37], line 8\u001b[0m\n\u001b[1;32m      6\u001b[0m     \u001b[38;5;66;03m# return most common ratio\u001b[39;00m\n\u001b[1;32m      7\u001b[0m     \u001b[38;5;28;01mreturn\u001b[39;00m result\u001b[38;5;241m.\u001b[39mmost_common(\u001b[38;5;241m1\u001b[39m) \u001b[38;5;241m/\u001b[39m \u001b[38;5;28msum\u001b[39m(result\u001b[38;5;241m.\u001b[39mvalues)\n\u001b[0;32m----> 8\u001b[0m \u001b[38;5;28mprint\u001b[39m(\u001b[43mmeasure_position_dominance\u001b[49m\u001b[43m(\u001b[49m\u001b[38;5;241;43m0\u001b[39;49m\u001b[43m,\u001b[49m\u001b[43m \u001b[49m\u001b[43mseq_array\u001b[49m\u001b[43m)\u001b[49m)\n",
      "Cell \u001b[0;32mIn[37], line 7\u001b[0m, in \u001b[0;36mmeasure_position_dominance\u001b[0;34m(position, target)\u001b[0m\n\u001b[1;32m      5\u001b[0m result \u001b[38;5;241m=\u001b[39m Counter([element[position] \u001b[38;5;28;01mfor\u001b[39;00m element \u001b[38;5;129;01min\u001b[39;00m target])\n\u001b[1;32m      6\u001b[0m \u001b[38;5;66;03m# return most common ratio\u001b[39;00m\n\u001b[0;32m----> 7\u001b[0m \u001b[38;5;28;01mreturn\u001b[39;00m result\u001b[38;5;241m.\u001b[39mmost_common(\u001b[38;5;241m1\u001b[39m) \u001b[38;5;241m/\u001b[39m \u001b[38;5;28;43msum\u001b[39;49m\u001b[43m(\u001b[49m\u001b[43mresult\u001b[49m\u001b[38;5;241;43m.\u001b[39;49m\u001b[43mvalues\u001b[49m\u001b[43m)\u001b[49m\n",
      "\u001b[0;31mTypeError\u001b[0m: 'builtin_function_or_method' object is not iterable"
     ]
    }
   ],
   "source": [
    "def at(source, index):\n",
    "    return source[index]\n",
    "map(lambda x, i: x[i], seq_array)\n",
    "def measure_position_dominance(position, target: pd.Series):\n",
    "    result = Counter([element[position] for element in target])\n",
    "    # return most common ratio\n",
    "    # return result.most_common(1). / sum(result.values)\n",
    "print(measure_position_dominance(0, seq_array))"
   ]
  },
  {
   "cell_type": "code",
   "execution_count": null,
   "metadata": {},
   "outputs": [],
   "source": []
  }
 ],
 "metadata": {
  "kernelspec": {
   "display_name": "conda-mut",
   "language": "python",
   "name": "python3"
  },
  "language_info": {
   "codemirror_mode": {
    "name": "ipython",
    "version": 3
   },
   "file_extension": ".py",
   "mimetype": "text/x-python",
   "name": "python",
   "nbconvert_exporter": "python",
   "pygments_lexer": "ipython3",
   "version": "3.11.7"
  }
 },
 "nbformat": 4,
 "nbformat_minor": 2
}
